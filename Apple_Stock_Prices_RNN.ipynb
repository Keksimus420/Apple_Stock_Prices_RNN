{
 "cells": [
  {
   "cell_type": "code",
   "execution_count": 1,
   "metadata": {},
   "outputs": [],
   "source": [
    "#import the libraries\n",
    "import numpy as np\n",
    "import matplotlib.pyplot as plt\n",
    "import pandas as pd"
   ]
  },
  {
   "cell_type": "code",
   "execution_count": 2,
   "metadata": {},
   "outputs": [],
   "source": [
    "#import the training dataset\n",
    "dataset_train = pd.read_csv('Apple_Stock_Price_Train.csv')"
   ]
  },
  {
   "cell_type": "code",
   "execution_count": 3,
   "metadata": {},
   "outputs": [
    {
     "data": {
      "text/html": [
       "<div>\n",
       "<style scoped>\n",
       "    .dataframe tbody tr th:only-of-type {\n",
       "        vertical-align: middle;\n",
       "    }\n",
       "\n",
       "    .dataframe tbody tr th {\n",
       "        vertical-align: top;\n",
       "    }\n",
       "\n",
       "    .dataframe thead th {\n",
       "        text-align: right;\n",
       "    }\n",
       "</style>\n",
       "<table border=\"1\" class=\"dataframe\">\n",
       "  <thead>\n",
       "    <tr style=\"text-align: right;\">\n",
       "      <th></th>\n",
       "      <th>Date</th>\n",
       "      <th>Open</th>\n",
       "      <th>High</th>\n",
       "      <th>Low</th>\n",
       "      <th>Close</th>\n",
       "      <th>Adj Close</th>\n",
       "      <th>Volume</th>\n",
       "    </tr>\n",
       "  </thead>\n",
       "  <tbody>\n",
       "    <tr>\n",
       "      <th>0</th>\n",
       "      <td>2009-08-03</td>\n",
       "      <td>5.900357</td>\n",
       "      <td>5.951428</td>\n",
       "      <td>5.888214</td>\n",
       "      <td>5.943929</td>\n",
       "      <td>5.136382</td>\n",
       "      <td>394240000</td>\n",
       "    </tr>\n",
       "    <tr>\n",
       "      <th>1</th>\n",
       "      <td>2009-08-04</td>\n",
       "      <td>5.890357</td>\n",
       "      <td>5.913214</td>\n",
       "      <td>5.864643</td>\n",
       "      <td>5.912500</td>\n",
       "      <td>5.109222</td>\n",
       "      <td>395810800</td>\n",
       "    </tr>\n",
       "    <tr>\n",
       "      <th>2</th>\n",
       "      <td>2009-08-05</td>\n",
       "      <td>5.919643</td>\n",
       "      <td>5.978214</td>\n",
       "      <td>5.864643</td>\n",
       "      <td>5.896786</td>\n",
       "      <td>5.095644</td>\n",
       "      <td>423183600</td>\n",
       "    </tr>\n",
       "    <tr>\n",
       "      <th>3</th>\n",
       "      <td>2009-08-06</td>\n",
       "      <td>5.913571</td>\n",
       "      <td>5.946786</td>\n",
       "      <td>5.824643</td>\n",
       "      <td>5.853929</td>\n",
       "      <td>5.058609</td>\n",
       "      <td>341616800</td>\n",
       "    </tr>\n",
       "    <tr>\n",
       "      <th>4</th>\n",
       "      <td>2009-08-07</td>\n",
       "      <td>5.910357</td>\n",
       "      <td>5.950000</td>\n",
       "      <td>5.885714</td>\n",
       "      <td>5.911071</td>\n",
       "      <td>5.107988</td>\n",
       "      <td>387354800</td>\n",
       "    </tr>\n",
       "  </tbody>\n",
       "</table>\n",
       "</div>"
      ],
      "text/plain": [
       "         Date      Open      High       Low     Close  Adj Close     Volume\n",
       "0  2009-08-03  5.900357  5.951428  5.888214  5.943929   5.136382  394240000\n",
       "1  2009-08-04  5.890357  5.913214  5.864643  5.912500   5.109222  395810800\n",
       "2  2009-08-05  5.919643  5.978214  5.864643  5.896786   5.095644  423183600\n",
       "3  2009-08-06  5.913571  5.946786  5.824643  5.853929   5.058609  341616800\n",
       "4  2009-08-07  5.910357  5.950000  5.885714  5.911071   5.107988  387354800"
      ]
     },
     "execution_count": 3,
     "metadata": {},
     "output_type": "execute_result"
    }
   ],
   "source": [
    "dataset_train.head()"
   ]
  },
  {
   "cell_type": "code",
   "execution_count": 4,
   "metadata": {},
   "outputs": [],
   "source": [
    "#create an array of values that contain only the opening stock market price for each day\n",
    "training_set = dataset_train.iloc[:, 1:2].values "
   ]
  },
  {
   "cell_type": "code",
   "execution_count": 5,
   "metadata": {},
   "outputs": [
    {
     "data": {
      "text/plain": [
       "array([[  5.900357],\n",
       "       [  5.890357],\n",
       "       [  5.919643],\n",
       "       ...,\n",
       "       [126.18    ],\n",
       "       [127.142502],\n",
       "       [126.012497]])"
      ]
     },
     "execution_count": 5,
     "metadata": {},
     "output_type": "execute_result"
    }
   ],
   "source": [
    "training_set"
   ]
  },
  {
   "cell_type": "markdown",
   "metadata": {},
   "source": [
    "The training and test data sets must be rescaled to the range from 0 to 1\n",
    "\n",
    "Using the ScikitLearn library MinMaxScaler() transforms the selected feature by scaling it to a given range"
   ]
  },
  {
   "cell_type": "code",
   "execution_count": 6,
   "metadata": {},
   "outputs": [],
   "source": [
    "#import the MinMaxScaler\n",
    "from sklearn.preprocessing import MinMaxScaler"
   ]
  },
  {
   "cell_type": "code",
   "execution_count": 7,
   "metadata": {},
   "outputs": [],
   "source": [
    "#creates a scaler instance to rescale all data to the range of 0 to 1\n",
    "sc = MinMaxScaler(feature_range = (0, 1))"
   ]
  },
  {
   "cell_type": "code",
   "execution_count": 8,
   "metadata": {},
   "outputs": [],
   "source": [
    "#creates the actual training set of scaled values\n",
    "training_set_scaled = sc.fit_transform(training_set)"
   ]
  },
  {
   "cell_type": "code",
   "execution_count": 9,
   "metadata": {},
   "outputs": [
    {
     "data": {
      "text/plain": [
       "array([[1.04012207e-03],\n",
       "       [9.58771648e-04],\n",
       "       [1.19701449e-03],\n",
       "       ...,\n",
       "       [9.79520072e-01],\n",
       "       [9.87350067e-01],\n",
       "       [9.78157428e-01]])"
      ]
     },
     "execution_count": 9,
     "metadata": {},
     "output_type": "execute_result"
    }
   ],
   "source": [
    "training_set_scaled"
   ]
  },
  {
   "cell_type": "code",
   "execution_count": 10,
   "metadata": {},
   "outputs": [],
   "source": [
    "#creating a data structure with 90 timesteps and 1 output\n",
    "X_train = [] "
   ]
  },
  {
   "cell_type": "code",
   "execution_count": 11,
   "metadata": {},
   "outputs": [
    {
     "data": {
      "text/plain": [
       "(2789, 1)"
      ]
     },
     "execution_count": 11,
     "metadata": {},
     "output_type": "execute_result"
    }
   ],
   "source": [
    "training_set_scaled.shape"
   ]
  },
  {
   "cell_type": "code",
   "execution_count": 12,
   "metadata": {},
   "outputs": [],
   "source": [
    "#the stock price today\n",
    "y_train = [] "
   ]
  },
  {
   "cell_type": "code",
   "execution_count": 13,
   "metadata": {},
   "outputs": [],
   "source": [
    "# go back 90 days\n",
    "for i in range(90, 2789): \n",
    "    # 0 is the column ID, the only column in this case.    \n",
    "    # put the last 90 days values in one row of X_train\n",
    "    X_train.append(training_set_scaled[i-90:i, 0]) \n",
    "    y_train.append(training_set_scaled[i, 0])"
   ]
  },
  {
   "cell_type": "code",
   "execution_count": 14,
   "metadata": {},
   "outputs": [],
   "source": [
    "X_train, y_train = np.array(X_train), np.array(y_train)"
   ]
  },
  {
   "cell_type": "code",
   "execution_count": 15,
   "metadata": {},
   "outputs": [
    {
     "data": {
      "text/plain": [
       "array([[1.04012207e-03, 9.58771648e-04, 1.19701449e-03, ...,\n",
       "        1.10607529e-02, 9.20712667e-03, 8.05659581e-03],\n",
       "       [9.58771648e-04, 1.19701449e-03, 1.14761851e-03, ...,\n",
       "        9.20712667e-03, 8.05659581e-03, 8.61443191e-03],\n",
       "       [1.19701449e-03, 1.14761851e-03, 1.12147249e-03, ...,\n",
       "        8.05659581e-03, 8.61443191e-03, 1.10026443e-02],\n",
       "       ...,\n",
       "       [5.18324227e-01, 5.14927822e-01, 5.09497649e-01, ...,\n",
       "        9.23245895e-01, 1.00000000e+00, 9.67459889e-01],\n",
       "       [5.14927822e-01, 5.09497649e-01, 5.14093973e-01, ...,\n",
       "        1.00000000e+00, 9.67459889e-01, 9.79520072e-01],\n",
       "       [5.09497649e-01, 5.14093973e-01, 5.16798907e-01, ...,\n",
       "        9.67459889e-01, 9.79520072e-01, 9.87350067e-01]])"
      ]
     },
     "execution_count": 15,
     "metadata": {},
     "output_type": "execute_result"
    }
   ],
   "source": [
    "X_train"
   ]
  },
  {
   "cell_type": "code",
   "execution_count": 16,
   "metadata": {},
   "outputs": [],
   "source": [
    "X_train = np.reshape(X_train, (X_train.shape[0], X_train.shape[1], 1))"
   ]
  },
  {
   "cell_type": "markdown",
   "metadata": {},
   "source": [
    "Keras must be installed in the terminal with\n",
    "\n",
    "pip3 install keras"
   ]
  },
  {
   "cell_type": "code",
   "execution_count": 17,
   "metadata": {},
   "outputs": [],
   "source": [
    "#importing the Keras libraries and packages\n",
    "from keras.models import Sequential\n",
    "from keras.layers import Dense\n",
    "from keras.layers import LSTM\n",
    "from keras.layers import Dropout"
   ]
  },
  {
   "cell_type": "code",
   "execution_count": 18,
   "metadata": {},
   "outputs": [],
   "source": [
    "#initialising the RNN as a sequence of layers\n",
    "regressor = Sequential()"
   ]
  },
  {
   "cell_type": "code",
   "execution_count": 19,
   "metadata": {},
   "outputs": [],
   "source": [
    "# Adding the input layer and the LSTM layer\n",
    "regressor.add(LSTM(units = 50, return_sequences = True, input_shape =  (X_train.shape[1], 1)))"
   ]
  },
  {
   "cell_type": "code",
   "execution_count": 20,
   "metadata": {},
   "outputs": [],
   "source": [
    "# the argument is the dropout rate to ignore in the layers (20%), \n",
    "# i.e. 50 units * 20% = 10 units will be dropped each time\n",
    "regressor.add(Dropout(0.2))"
   ]
  },
  {
   "cell_type": "code",
   "execution_count": 21,
   "metadata": {},
   "outputs": [],
   "source": [
    "# Adding a second LSTM layer and some Dropout regularisation\n",
    "regressor.add(LSTM(units = 50, return_sequences = True))\n",
    "regressor.add(Dropout(0.2))"
   ]
  },
  {
   "cell_type": "code",
   "execution_count": 22,
   "metadata": {},
   "outputs": [],
   "source": [
    "# Adding a third LSTM layer and some Dropout regularisation\n",
    "regressor.add(LSTM(units = 50, return_sequences = True))\n",
    "regressor.add(Dropout(0.2))"
   ]
  },
  {
   "cell_type": "code",
   "execution_count": 23,
   "metadata": {},
   "outputs": [],
   "source": [
    "# Adding a fourth LSTM layer and some Dropout regularisation\n",
    "# we removed the return_sequences because we no longer return a \n",
    "# sequence but a value instead\n",
    "regressor.add(LSTM(units = 50))\n",
    "regressor.add(Dropout(0.2))"
   ]
  },
  {
   "cell_type": "code",
   "execution_count": 24,
   "metadata": {},
   "outputs": [],
   "source": [
    "# Adding the output layer\n",
    "regressor.add(Dense(units = 1))"
   ]
  },
  {
   "cell_type": "code",
   "execution_count": 25,
   "metadata": {},
   "outputs": [],
   "source": [
    "# Compiling the RNN\n",
    "regressor.compile(optimizer = 'adam', loss = 'mean_squared_error')"
   ]
  },
  {
   "cell_type": "code",
   "execution_count": 27,
   "metadata": {},
   "outputs": [
    {
     "name": "stdout",
     "output_type": "stream",
     "text": [
      "Epoch 1/100\n",
      "85/85 [==============================] - 14s 162ms/step - loss: 8.2364e-04\n",
      "Epoch 2/100\n",
      "85/85 [==============================] - 14s 161ms/step - loss: 7.4410e-04\n",
      "Epoch 3/100\n",
      "85/85 [==============================] - 14s 160ms/step - loss: 7.5894e-04\n",
      "Epoch 4/100\n",
      "85/85 [==============================] - 14s 160ms/step - loss: 8.4692e-04\n",
      "Epoch 5/100\n",
      "85/85 [==============================] - 14s 160ms/step - loss: 7.2660e-04\n",
      "Epoch 6/100\n",
      "85/85 [==============================] - 14s 162ms/step - loss: 6.4580e-04\n",
      "Epoch 7/100\n",
      "85/85 [==============================] - 14s 160ms/step - loss: 6.7614e-04\n",
      "Epoch 8/100\n",
      "85/85 [==============================] - 14s 163ms/step - loss: 5.7515e-04\n",
      "Epoch 9/100\n",
      "85/85 [==============================] - 15s 182ms/step - loss: 6.2925e-04\n",
      "Epoch 10/100\n",
      "85/85 [==============================] - 14s 165ms/step - loss: 4.9005e-04\n",
      "Epoch 11/100\n",
      "85/85 [==============================] - 14s 161ms/step - loss: 6.0377e-04\n",
      "Epoch 12/100\n",
      "85/85 [==============================] - 14s 160ms/step - loss: 7.7621e-04\n",
      "Epoch 13/100\n",
      "85/85 [==============================] - 14s 161ms/step - loss: 5.1412e-04\n",
      "Epoch 14/100\n",
      "85/85 [==============================] - 14s 162ms/step - loss: 4.8351e-04\n",
      "Epoch 15/100\n",
      "85/85 [==============================] - 14s 160ms/step - loss: 4.8576e-04\n",
      "Epoch 16/100\n",
      "85/85 [==============================] - 14s 160ms/step - loss: 4.8115e-04\n",
      "Epoch 17/100\n",
      "85/85 [==============================] - 14s 161ms/step - loss: 4.9746e-04\n",
      "Epoch 18/100\n",
      "85/85 [==============================] - 14s 162ms/step - loss: 4.7269e-04\n",
      "Epoch 19/100\n",
      "85/85 [==============================] - 14s 161ms/step - loss: 4.6259e-04\n",
      "Epoch 20/100\n",
      "85/85 [==============================] - 14s 162ms/step - loss: 4.8949e-04\n",
      "Epoch 21/100\n",
      "85/85 [==============================] - 14s 162ms/step - loss: 4.4171e-04\n",
      "Epoch 22/100\n",
      "85/85 [==============================] - 14s 161ms/step - loss: 4.7571e-04\n",
      "Epoch 23/100\n",
      "85/85 [==============================] - 14s 161ms/step - loss: 4.4167e-04\n",
      "Epoch 24/100\n",
      "85/85 [==============================] - 14s 162ms/step - loss: 3.8431e-04\n",
      "Epoch 25/100\n",
      "85/85 [==============================] - 14s 163ms/step - loss: 4.7189e-04\n",
      "Epoch 26/100\n",
      "85/85 [==============================] - 14s 163ms/step - loss: 4.1042e-04\n",
      "Epoch 27/100\n",
      "85/85 [==============================] - 14s 161ms/step - loss: 4.0872e-04\n",
      "Epoch 28/100\n",
      "85/85 [==============================] - 14s 162ms/step - loss: 4.5862e-04\n",
      "Epoch 29/100\n",
      "85/85 [==============================] - 14s 162ms/step - loss: 4.6939e-04\n",
      "Epoch 30/100\n",
      "85/85 [==============================] - 14s 162ms/step - loss: 4.4361e-04\n",
      "Epoch 31/100\n",
      "85/85 [==============================] - 14s 163ms/step - loss: 5.0403e-04\n",
      "Epoch 32/100\n",
      "85/85 [==============================] - 13s 154ms/step - loss: 4.0500e-04\n",
      "Epoch 33/100\n",
      "85/85 [==============================] - 14s 160ms/step - loss: 3.8788e-04\n",
      "Epoch 34/100\n",
      "85/85 [==============================] - 14s 161ms/step - loss: 5.5421e-04\n",
      "Epoch 35/100\n",
      "85/85 [==============================] - 14s 165ms/step - loss: 3.9098e-04\n",
      "Epoch 36/100\n",
      "85/85 [==============================] - 14s 161ms/step - loss: 3.7686e-04\n",
      "Epoch 37/100\n",
      "85/85 [==============================] - 14s 162ms/step - loss: 3.1484e-04\n",
      "Epoch 38/100\n",
      "85/85 [==============================] - 14s 161ms/step - loss: 3.5085e-04\n",
      "Epoch 39/100\n",
      "85/85 [==============================] - 14s 162ms/step - loss: 3.9050e-04\n",
      "Epoch 40/100\n",
      "85/85 [==============================] - 14s 161ms/step - loss: 4.9110e-04\n",
      "Epoch 41/100\n",
      "85/85 [==============================] - 14s 161ms/step - loss: 4.2274e-04\n",
      "Epoch 42/100\n",
      "85/85 [==============================] - 14s 162ms/step - loss: 4.1387e-04\n",
      "Epoch 43/100\n",
      "85/85 [==============================] - 14s 162ms/step - loss: 3.8869e-04\n",
      "Epoch 44/100\n",
      "85/85 [==============================] - 14s 161ms/step - loss: 3.7053e-04\n",
      "Epoch 45/100\n",
      "85/85 [==============================] - 14s 162ms/step - loss: 3.5874e-04\n",
      "Epoch 46/100\n",
      "85/85 [==============================] - 14s 161ms/step - loss: 4.5224e-04\n",
      "Epoch 47/100\n",
      "85/85 [==============================] - 14s 162ms/step - loss: 3.9940e-04\n",
      "Epoch 48/100\n",
      "85/85 [==============================] - 14s 164ms/step - loss: 3.4007e-04\n",
      "Epoch 49/100\n",
      "85/85 [==============================] - 14s 163ms/step - loss: 4.5426e-04\n",
      "Epoch 50/100\n",
      "85/85 [==============================] - 14s 165ms/step - loss: 4.3199e-04\n",
      "Epoch 51/100\n",
      "85/85 [==============================] - 14s 163ms/step - loss: 3.6388e-04\n",
      "Epoch 52/100\n",
      "85/85 [==============================] - 14s 165ms/step - loss: 3.6094e-04\n",
      "Epoch 53/100\n",
      "85/85 [==============================] - 14s 166ms/step - loss: 4.0473e-04\n",
      "Epoch 54/100\n",
      "85/85 [==============================] - 14s 162ms/step - loss: 3.3548e-04\n",
      "Epoch 55/100\n",
      "85/85 [==============================] - 14s 161ms/step - loss: 4.8612e-04\n",
      "Epoch 56/100\n",
      "85/85 [==============================] - 14s 162ms/step - loss: 2.9605e-04\n",
      "Epoch 57/100\n",
      "85/85 [==============================] - 14s 161ms/step - loss: 3.8959e-04\n",
      "Epoch 58/100\n",
      "85/85 [==============================] - 14s 161ms/step - loss: 3.1742e-04\n",
      "Epoch 59/100\n",
      "85/85 [==============================] - 14s 163ms/step - loss: 3.6255e-04\n",
      "Epoch 60/100\n",
      "85/85 [==============================] - 14s 162ms/step - loss: 3.6350e-04\n",
      "Epoch 61/100\n",
      "85/85 [==============================] - 14s 162ms/step - loss: 3.6174e-04\n",
      "Epoch 62/100\n",
      "85/85 [==============================] - 14s 163ms/step - loss: 4.5934e-04\n",
      "Epoch 63/100\n",
      "85/85 [==============================] - 14s 163ms/step - loss: 4.3995e-04\n",
      "Epoch 64/100\n",
      "85/85 [==============================] - 14s 162ms/step - loss: 3.1952e-04\n",
      "Epoch 65/100\n",
      "85/85 [==============================] - 14s 164ms/step - loss: 4.4966e-04\n",
      "Epoch 66/100\n",
      "85/85 [==============================] - 14s 163ms/step - loss: 3.4216e-04\n",
      "Epoch 67/100\n",
      "85/85 [==============================] - 14s 162ms/step - loss: 4.2355e-04\n",
      "Epoch 68/100\n",
      "85/85 [==============================] - 14s 160ms/step - loss: 5.0568e-04\n",
      "Epoch 69/100\n",
      "85/85 [==============================] - 14s 159ms/step - loss: 2.8880e-04\n",
      "Epoch 70/100\n",
      "85/85 [==============================] - 14s 161ms/step - loss: 3.1474e-04\n",
      "Epoch 71/100\n",
      "85/85 [==============================] - 14s 160ms/step - loss: 4.1289e-04\n",
      "Epoch 72/100\n",
      "85/85 [==============================] - 14s 159ms/step - loss: 3.5342e-04\n",
      "Epoch 73/100\n",
      "85/85 [==============================] - 14s 164ms/step - loss: 3.6235e-04\n",
      "Epoch 74/100\n",
      "85/85 [==============================] - 14s 160ms/step - loss: 3.8021e-04\n",
      "Epoch 75/100\n",
      "85/85 [==============================] - 14s 161ms/step - loss: 3.4192e-04\n",
      "Epoch 76/100\n",
      "85/85 [==============================] - 14s 159ms/step - loss: 3.2513e-04\n",
      "Epoch 77/100\n",
      "85/85 [==============================] - 14s 159ms/step - loss: 4.4216e-04\n",
      "Epoch 78/100\n",
      "85/85 [==============================] - 14s 159ms/step - loss: 3.1875e-04\n",
      "Epoch 79/100\n",
      "85/85 [==============================] - 13s 159ms/step - loss: 2.7606e-04\n",
      "Epoch 80/100\n",
      "85/85 [==============================] - 14s 159ms/step - loss: 3.6689e-04\n",
      "Epoch 81/100\n",
      "85/85 [==============================] - 13s 159ms/step - loss: 3.2996e-04\n",
      "Epoch 82/100\n",
      "85/85 [==============================] - 13s 159ms/step - loss: 3.6287e-04\n",
      "Epoch 83/100\n",
      "85/85 [==============================] - 14s 160ms/step - loss: 3.5935e-04\n",
      "Epoch 84/100\n",
      "85/85 [==============================] - 13s 154ms/step - loss: 3.6490e-04\n",
      "Epoch 85/100\n",
      "85/85 [==============================] - 13s 151ms/step - loss: 3.5110e-04\n",
      "Epoch 86/100\n",
      "85/85 [==============================] - 13s 150ms/step - loss: 2.9266e-04\n",
      "Epoch 87/100\n",
      "85/85 [==============================] - 13s 151ms/step - loss: 3.2913e-04\n",
      "Epoch 88/100\n",
      "85/85 [==============================] - 13s 150ms/step - loss: 3.4336e-04\n",
      "Epoch 89/100\n",
      "85/85 [==============================] - 13s 152ms/step - loss: 3.2476e-04\n",
      "Epoch 90/100\n",
      "85/85 [==============================] - 13s 151ms/step - loss: 3.1041e-04\n",
      "Epoch 91/100\n",
      "85/85 [==============================] - 13s 153ms/step - loss: 3.1406e-04\n",
      "Epoch 92/100\n",
      "85/85 [==============================] - 13s 152ms/step - loss: 3.4045e-04\n",
      "Epoch 93/100\n",
      "85/85 [==============================] - 13s 152ms/step - loss: 3.4033e-04\n",
      "Epoch 94/100\n",
      "85/85 [==============================] - 13s 152ms/step - loss: 3.2479e-04\n",
      "Epoch 95/100\n",
      "85/85 [==============================] - 13s 150ms/step - loss: 3.3404e-04\n",
      "Epoch 96/100\n",
      "85/85 [==============================] - 13s 150ms/step - loss: 3.2386e-04\n",
      "Epoch 97/100\n",
      "85/85 [==============================] - 13s 152ms/step - loss: 4.3016e-04\n",
      "Epoch 98/100\n",
      "85/85 [==============================] - 13s 151ms/step - loss: 3.5955e-04\n",
      "Epoch 99/100\n",
      "85/85 [==============================] - 13s 151ms/step - loss: 3.2068e-04\n",
      "Epoch 100/100\n",
      "85/85 [==============================] - 13s 151ms/step - loss: 3.4028e-04\n"
     ]
    },
    {
     "data": {
      "text/plain": [
       "<tensorflow.python.keras.callbacks.History at 0x7f8087450610>"
      ]
     },
     "execution_count": 27,
     "metadata": {},
     "output_type": "execute_result"
    }
   ],
   "source": [
    "# Fitting the RNN to the Training set\n",
    "regressor.fit(X_train, y_train, epochs = 100, batch_size = 32)"
   ]
  },
  {
   "cell_type": "code",
   "execution_count": 28,
   "metadata": {},
   "outputs": [
    {
     "data": {
      "text/html": [
       "<div>\n",
       "<style scoped>\n",
       "    .dataframe tbody tr th:only-of-type {\n",
       "        vertical-align: middle;\n",
       "    }\n",
       "\n",
       "    .dataframe tbody tr th {\n",
       "        vertical-align: top;\n",
       "    }\n",
       "\n",
       "    .dataframe thead th {\n",
       "        text-align: right;\n",
       "    }\n",
       "</style>\n",
       "<table border=\"1\" class=\"dataframe\">\n",
       "  <thead>\n",
       "    <tr style=\"text-align: right;\">\n",
       "      <th></th>\n",
       "      <th>Date</th>\n",
       "      <th>Open</th>\n",
       "      <th>High</th>\n",
       "      <th>Low</th>\n",
       "      <th>Close</th>\n",
       "      <th>Adj Close</th>\n",
       "      <th>Volume</th>\n",
       "    </tr>\n",
       "  </thead>\n",
       "  <tbody>\n",
       "    <tr>\n",
       "      <th>0</th>\n",
       "      <td>2020-09-01</td>\n",
       "      <td>132.759995</td>\n",
       "      <td>134.800003</td>\n",
       "      <td>130.529999</td>\n",
       "      <td>134.179993</td>\n",
       "      <td>134.179993</td>\n",
       "      <td>152470100</td>\n",
       "    </tr>\n",
       "    <tr>\n",
       "      <th>1</th>\n",
       "      <td>2020-09-02</td>\n",
       "      <td>137.589996</td>\n",
       "      <td>137.979996</td>\n",
       "      <td>127.000000</td>\n",
       "      <td>131.399994</td>\n",
       "      <td>131.399994</td>\n",
       "      <td>200119000</td>\n",
       "    </tr>\n",
       "    <tr>\n",
       "      <th>2</th>\n",
       "      <td>2020-09-03</td>\n",
       "      <td>126.910004</td>\n",
       "      <td>128.839996</td>\n",
       "      <td>120.500000</td>\n",
       "      <td>120.879997</td>\n",
       "      <td>120.879997</td>\n",
       "      <td>257599600</td>\n",
       "    </tr>\n",
       "    <tr>\n",
       "      <th>3</th>\n",
       "      <td>2020-09-04</td>\n",
       "      <td>120.070000</td>\n",
       "      <td>123.699997</td>\n",
       "      <td>110.889999</td>\n",
       "      <td>120.959999</td>\n",
       "      <td>120.959999</td>\n",
       "      <td>332607200</td>\n",
       "    </tr>\n",
       "    <tr>\n",
       "      <th>4</th>\n",
       "      <td>2020-09-08</td>\n",
       "      <td>113.949997</td>\n",
       "      <td>118.989998</td>\n",
       "      <td>112.680000</td>\n",
       "      <td>112.820000</td>\n",
       "      <td>112.820000</td>\n",
       "      <td>231366600</td>\n",
       "    </tr>\n",
       "    <tr>\n",
       "      <th>5</th>\n",
       "      <td>2020-09-09</td>\n",
       "      <td>117.260002</td>\n",
       "      <td>119.139999</td>\n",
       "      <td>115.260002</td>\n",
       "      <td>117.320000</td>\n",
       "      <td>117.320000</td>\n",
       "      <td>176940500</td>\n",
       "    </tr>\n",
       "    <tr>\n",
       "      <th>6</th>\n",
       "      <td>2020-09-10</td>\n",
       "      <td>120.360001</td>\n",
       "      <td>120.500000</td>\n",
       "      <td>112.500000</td>\n",
       "      <td>113.489998</td>\n",
       "      <td>113.489998</td>\n",
       "      <td>182274400</td>\n",
       "    </tr>\n",
       "    <tr>\n",
       "      <th>7</th>\n",
       "      <td>2020-09-11</td>\n",
       "      <td>114.570000</td>\n",
       "      <td>115.230003</td>\n",
       "      <td>110.000000</td>\n",
       "      <td>112.000000</td>\n",
       "      <td>112.000000</td>\n",
       "      <td>180860300</td>\n",
       "    </tr>\n",
       "    <tr>\n",
       "      <th>8</th>\n",
       "      <td>2020-09-14</td>\n",
       "      <td>114.720001</td>\n",
       "      <td>115.930000</td>\n",
       "      <td>112.800003</td>\n",
       "      <td>115.360001</td>\n",
       "      <td>115.360001</td>\n",
       "      <td>140150100</td>\n",
       "    </tr>\n",
       "    <tr>\n",
       "      <th>9</th>\n",
       "      <td>2020-09-15</td>\n",
       "      <td>118.330002</td>\n",
       "      <td>118.830002</td>\n",
       "      <td>113.610001</td>\n",
       "      <td>115.540001</td>\n",
       "      <td>115.540001</td>\n",
       "      <td>184642000</td>\n",
       "    </tr>\n",
       "    <tr>\n",
       "      <th>10</th>\n",
       "      <td>2020-09-16</td>\n",
       "      <td>115.230003</td>\n",
       "      <td>116.000000</td>\n",
       "      <td>112.040001</td>\n",
       "      <td>112.129997</td>\n",
       "      <td>112.129997</td>\n",
       "      <td>154679000</td>\n",
       "    </tr>\n",
       "    <tr>\n",
       "      <th>11</th>\n",
       "      <td>2020-09-17</td>\n",
       "      <td>109.720001</td>\n",
       "      <td>112.199997</td>\n",
       "      <td>108.709999</td>\n",
       "      <td>110.339996</td>\n",
       "      <td>110.339996</td>\n",
       "      <td>178011000</td>\n",
       "    </tr>\n",
       "    <tr>\n",
       "      <th>12</th>\n",
       "      <td>2020-09-18</td>\n",
       "      <td>110.400002</td>\n",
       "      <td>110.879997</td>\n",
       "      <td>106.089996</td>\n",
       "      <td>106.839996</td>\n",
       "      <td>106.839996</td>\n",
       "      <td>287104900</td>\n",
       "    </tr>\n",
       "    <tr>\n",
       "      <th>13</th>\n",
       "      <td>2020-09-21</td>\n",
       "      <td>104.540001</td>\n",
       "      <td>110.190002</td>\n",
       "      <td>103.099998</td>\n",
       "      <td>110.080002</td>\n",
       "      <td>110.080002</td>\n",
       "      <td>195713800</td>\n",
       "    </tr>\n",
       "    <tr>\n",
       "      <th>14</th>\n",
       "      <td>2020-09-22</td>\n",
       "      <td>112.680000</td>\n",
       "      <td>112.860001</td>\n",
       "      <td>109.160004</td>\n",
       "      <td>111.809998</td>\n",
       "      <td>111.809998</td>\n",
       "      <td>183055400</td>\n",
       "    </tr>\n",
       "    <tr>\n",
       "      <th>15</th>\n",
       "      <td>2020-09-23</td>\n",
       "      <td>111.620003</td>\n",
       "      <td>112.110001</td>\n",
       "      <td>106.769997</td>\n",
       "      <td>107.120003</td>\n",
       "      <td>107.120003</td>\n",
       "      <td>150718700</td>\n",
       "    </tr>\n",
       "    <tr>\n",
       "      <th>16</th>\n",
       "      <td>2020-09-24</td>\n",
       "      <td>105.169998</td>\n",
       "      <td>110.250000</td>\n",
       "      <td>105.000000</td>\n",
       "      <td>108.220001</td>\n",
       "      <td>108.220001</td>\n",
       "      <td>167743300</td>\n",
       "    </tr>\n",
       "    <tr>\n",
       "      <th>17</th>\n",
       "      <td>2020-09-25</td>\n",
       "      <td>108.430000</td>\n",
       "      <td>112.440002</td>\n",
       "      <td>107.669998</td>\n",
       "      <td>112.279999</td>\n",
       "      <td>112.279999</td>\n",
       "      <td>149981400</td>\n",
       "    </tr>\n",
       "    <tr>\n",
       "      <th>18</th>\n",
       "      <td>2020-09-28</td>\n",
       "      <td>115.010002</td>\n",
       "      <td>115.320000</td>\n",
       "      <td>112.779999</td>\n",
       "      <td>114.959999</td>\n",
       "      <td>114.959999</td>\n",
       "      <td>137672400</td>\n",
       "    </tr>\n",
       "    <tr>\n",
       "      <th>19</th>\n",
       "      <td>2020-09-29</td>\n",
       "      <td>114.550003</td>\n",
       "      <td>115.309998</td>\n",
       "      <td>113.570000</td>\n",
       "      <td>114.089996</td>\n",
       "      <td>114.089996</td>\n",
       "      <td>99382200</td>\n",
       "    </tr>\n",
       "  </tbody>\n",
       "</table>\n",
       "</div>"
      ],
      "text/plain": [
       "          Date        Open        High         Low       Close   Adj Close  \\\n",
       "0   2020-09-01  132.759995  134.800003  130.529999  134.179993  134.179993   \n",
       "1   2020-09-02  137.589996  137.979996  127.000000  131.399994  131.399994   \n",
       "2   2020-09-03  126.910004  128.839996  120.500000  120.879997  120.879997   \n",
       "3   2020-09-04  120.070000  123.699997  110.889999  120.959999  120.959999   \n",
       "4   2020-09-08  113.949997  118.989998  112.680000  112.820000  112.820000   \n",
       "5   2020-09-09  117.260002  119.139999  115.260002  117.320000  117.320000   \n",
       "6   2020-09-10  120.360001  120.500000  112.500000  113.489998  113.489998   \n",
       "7   2020-09-11  114.570000  115.230003  110.000000  112.000000  112.000000   \n",
       "8   2020-09-14  114.720001  115.930000  112.800003  115.360001  115.360001   \n",
       "9   2020-09-15  118.330002  118.830002  113.610001  115.540001  115.540001   \n",
       "10  2020-09-16  115.230003  116.000000  112.040001  112.129997  112.129997   \n",
       "11  2020-09-17  109.720001  112.199997  108.709999  110.339996  110.339996   \n",
       "12  2020-09-18  110.400002  110.879997  106.089996  106.839996  106.839996   \n",
       "13  2020-09-21  104.540001  110.190002  103.099998  110.080002  110.080002   \n",
       "14  2020-09-22  112.680000  112.860001  109.160004  111.809998  111.809998   \n",
       "15  2020-09-23  111.620003  112.110001  106.769997  107.120003  107.120003   \n",
       "16  2020-09-24  105.169998  110.250000  105.000000  108.220001  108.220001   \n",
       "17  2020-09-25  108.430000  112.440002  107.669998  112.279999  112.279999   \n",
       "18  2020-09-28  115.010002  115.320000  112.779999  114.959999  114.959999   \n",
       "19  2020-09-29  114.550003  115.309998  113.570000  114.089996  114.089996   \n",
       "\n",
       "       Volume  \n",
       "0   152470100  \n",
       "1   200119000  \n",
       "2   257599600  \n",
       "3   332607200  \n",
       "4   231366600  \n",
       "5   176940500  \n",
       "6   182274400  \n",
       "7   180860300  \n",
       "8   140150100  \n",
       "9   184642000  \n",
       "10  154679000  \n",
       "11  178011000  \n",
       "12  287104900  \n",
       "13  195713800  \n",
       "14  183055400  \n",
       "15  150718700  \n",
       "16  167743300  \n",
       "17  149981400  \n",
       "18  137672400  \n",
       "19   99382200  "
      ]
     },
     "execution_count": 28,
     "metadata": {},
     "output_type": "execute_result"
    }
   ],
   "source": [
    "# Getting the real stock price for September 1st 2020 - September 30th 2020\n",
    "\n",
    "dataset_test = pd.read_csv('Apple_Stock_Price_Test.csv')\n",
    "dataset_test"
   ]
  },
  {
   "cell_type": "code",
   "execution_count": 29,
   "metadata": {},
   "outputs": [
    {
     "data": {
      "text/plain": [
       "20"
      ]
     },
     "execution_count": 29,
     "metadata": {},
     "output_type": "execute_result"
    }
   ],
   "source": [
    "real_stock_price = dataset_test.iloc[:, 1:2].values\n",
    "real_stock_price.size"
   ]
  },
  {
   "cell_type": "code",
   "execution_count": 30,
   "metadata": {},
   "outputs": [
    {
     "data": {
      "text/plain": [
       "array([[132.759995],\n",
       "       [137.589996],\n",
       "       [126.910004],\n",
       "       [120.07    ],\n",
       "       [113.949997],\n",
       "       [117.260002],\n",
       "       [120.360001],\n",
       "       [114.57    ],\n",
       "       [114.720001],\n",
       "       [118.330002],\n",
       "       [115.230003],\n",
       "       [109.720001],\n",
       "       [110.400002],\n",
       "       [104.540001],\n",
       "       [112.68    ],\n",
       "       [111.620003],\n",
       "       [105.169998],\n",
       "       [108.43    ],\n",
       "       [115.010002],\n",
       "       [114.550003]])"
      ]
     },
     "execution_count": 30,
     "metadata": {},
     "output_type": "execute_result"
    }
   ],
   "source": [
    "real_stock_price"
   ]
  },
  {
   "cell_type": "code",
   "execution_count": 31,
   "metadata": {},
   "outputs": [],
   "source": [
    "#getting a predicted stock price\n",
    "dataset_total = pd.concat((dataset_train['Open'], dataset_test['Open']), axis = 0) "
   ]
  },
  {
   "cell_type": "code",
   "execution_count": 32,
   "metadata": {},
   "outputs": [
    {
     "data": {
      "text/plain": [
       "2809"
      ]
     },
     "execution_count": 32,
     "metadata": {},
     "output_type": "execute_result"
    }
   ],
   "source": [
    "dataset_total.size"
   ]
  },
  {
   "cell_type": "code",
   "execution_count": 33,
   "metadata": {},
   "outputs": [],
   "source": [
    "inputs = dataset_total[len(dataset_total) - len(dataset_test) - 90:].values"
   ]
  },
  {
   "cell_type": "code",
   "execution_count": 34,
   "metadata": {},
   "outputs": [
    {
     "data": {
      "text/plain": [
       "110"
      ]
     },
     "execution_count": 34,
     "metadata": {},
     "output_type": "execute_result"
    }
   ],
   "source": [
    "inputs.size"
   ]
  },
  {
   "cell_type": "code",
   "execution_count": 35,
   "metadata": {},
   "outputs": [],
   "source": [
    "inputs = inputs.reshape(-1,1) \n",
    "\n",
    "#apply the feature scaler\n",
    "inputs = sc.transform(inputs)"
   ]
  },
  {
   "cell_type": "code",
   "execution_count": 36,
   "metadata": {},
   "outputs": [],
   "source": [
    "#getting a predicted stock price\n",
    "X_test = []"
   ]
  },
  {
   "cell_type": "code",
   "execution_count": 37,
   "metadata": {},
   "outputs": [],
   "source": [
    "for i in range(90, 110): \n",
    "    X_test.append(inputs[i-90:i, 0])"
   ]
  },
  {
   "cell_type": "code",
   "execution_count": 38,
   "metadata": {},
   "outputs": [],
   "source": [
    "#not a 3D structure yet\n",
    "X_test = np.array(X_test)"
   ]
  },
  {
   "cell_type": "code",
   "execution_count": 39,
   "metadata": {},
   "outputs": [],
   "source": [
    "#add a third dimension with a value of 1 to make a 3D structure for compatibility\n",
    "X_test = np.reshape(X_test, (X_test.shape[0], X_test.shape[1], 1))"
   ]
  },
  {
   "cell_type": "code",
   "execution_count": 40,
   "metadata": {},
   "outputs": [],
   "source": [
    "predicted_stock_price = regressor.predict(X_test)"
   ]
  },
  {
   "cell_type": "code",
   "execution_count": 41,
   "metadata": {},
   "outputs": [
    {
     "data": {
      "text/plain": [
       "20"
      ]
     },
     "execution_count": 41,
     "metadata": {},
     "output_type": "execute_result"
    }
   ],
   "source": [
    "#need to inverse the scaling to get meaningful predicted stock price outputs\n",
    "predicted_stock_price = sc.inverse_transform(predicted_stock_price) \n",
    "predicted_stock_price.size"
   ]
  },
  {
   "cell_type": "code",
   "execution_count": 43,
   "metadata": {},
   "outputs": [
    {
     "data": {
      "image/png": "[encoded data removed]",
      "text/plain": [
       "<Figure size 432x288 with 1 Axes>"
      ]
     },
     "metadata": {
      "needs_background": "light"
     },
     "output_type": "display_data"
    }
   ],
   "source": [
    "# Visualising the results\n",
    "\n",
    "plt.plot(real_stock_price, color = 'red', label = 'Real Apple Stock Price')\n",
    "\n",
    "plt.plot(predicted_stock_price, color = 'blue', label = 'Predicted Apple Stock Price')\n",
    "\n",
    "plt.title('Apple Stock Price Prediction')\n",
    "plt.xlabel('Time')\n",
    "plt.ylabel('Apple Stock Price')\n",
    "plt.legend()\n",
    "\n",
    "plt.show()"
   ]
  },
  {
   "cell_type": "code",
   "execution_count": null,
   "metadata": {},
   "outputs": [],
   "source": []
  }
 ],
 "metadata": {
  "kernelspec": {
   "display_name": "Python 3",
   "language": "python",
   "name": "python3"
  },
  "language_info": {
   "codemirror_mode": {
    "name": "ipython",
    "version": 3
   },
   "file_extension": ".py",
   "mimetype": "text/x-python",
   "name": "python",
   "nbconvert_exporter": "python",
   "pygments_lexer": "ipython3",
   "version": "3.8.6"
  }
 },
 "nbformat": 4,
 "nbformat_minor": 4
}
